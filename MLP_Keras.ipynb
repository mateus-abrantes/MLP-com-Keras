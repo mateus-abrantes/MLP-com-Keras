{
  "nbformat": 4,
  "nbformat_minor": 0,
  "metadata": {
    "colab": {
      "name": "MLP_Keras.ipynb",
      "provenance": [],
      "include_colab_link": true
    },
    "kernelspec": {
      "name": "python3",
      "display_name": "Python 3"
    }
  },
  "cells": [
    {
      "cell_type": "markdown",
      "metadata": {
        "id": "view-in-github",
        "colab_type": "text"
      },
      "source": [
        "<a href=\"https://colab.research.google.com/github/mateus-abrantes/MLP-com-Keras/blob/main/MLP_Keras.ipynb\" target=\"_parent\"><img src=\"https://colab.research.google.com/assets/colab-badge.svg\" alt=\"Open In Colab\"/></a>"
      ]
    },
    {
      "cell_type": "markdown",
      "metadata": {
        "id": "aOwlXLildt0Q"
      },
      "source": [
        "# Multilayer Peceptron com Keras aplicado na previsao de chuva na Australia\n",
        "\n",
        "O objetivo deste exemplo é treinar um modelo supervisionado para prever se ira chover no outro dia em algun lugar da Australia, visto os dados obtidos dos ultimos 10 anos. Sendo que nestes dados apresentam as informações climaticas de quase todos os dias do ano, e a informação se choveu nesse dia, nessa aplicação queremos prever se choveu nesse dia, ira chover no outro dia.\n",
        "\n",
        "## Referências \n",
        "* Kaggle, https://www.kaggle.com/shrutimechlearn/churn-modelling\n",
        "* Super Data Science, https://www.superdatascience.com/machine-learning/ \n"
      ]
    },
    {
      "cell_type": "code",
      "metadata": {
        "id": "vIdkzBPodKS1"
      },
      "source": [
        "import numpy as np\n",
        "import matplotlib.pyplot as plt\n",
        "import pandas as pd"
      ],
      "execution_count": 1,
      "outputs": []
    },
    {
      "cell_type": "markdown",
      "metadata": {
        "id": "Lq10E2rzgIy1"
      },
      "source": [
        "## Carregando os dados"
      ]
    },
    {
      "cell_type": "code",
      "metadata": {
        "id": "WifPA4e_f31i",
        "colab": {
          "base_uri": "https://localhost:8080/",
          "height": 600
        },
        "outputId": "41d478d2-d9f1-44f9-9a18-9d42924fe4fb"
      },
      "source": [
        "# Importing the dataset\n",
        "dataset = pd.read_csv('https://raw.githubusercontent.com/mateus-abrantes/MLP-com-Keras/main/weatherAUS.csv')\n",
        "dataset"
      ],
      "execution_count": 107,
      "outputs": [
        {
          "output_type": "execute_result",
          "data": {
            "text/html": [
              "<div>\n",
              "<style scoped>\n",
              "    .dataframe tbody tr th:only-of-type {\n",
              "        vertical-align: middle;\n",
              "    }\n",
              "\n",
              "    .dataframe tbody tr th {\n",
              "        vertical-align: top;\n",
              "    }\n",
              "\n",
              "    .dataframe thead th {\n",
              "        text-align: right;\n",
              "    }\n",
              "</style>\n",
              "<table border=\"1\" class=\"dataframe\">\n",
              "  <thead>\n",
              "    <tr style=\"text-align: right;\">\n",
              "      <th></th>\n",
              "      <th>Date</th>\n",
              "      <th>Location</th>\n",
              "      <th>MinTemp</th>\n",
              "      <th>MaxTemp</th>\n",
              "      <th>Rainfall</th>\n",
              "      <th>Evaporation</th>\n",
              "      <th>Sunshine</th>\n",
              "      <th>WindGustDir</th>\n",
              "      <th>WindGustSpeed</th>\n",
              "      <th>WindDir9am</th>\n",
              "      <th>WindDir3pm</th>\n",
              "      <th>WindSpeed9am</th>\n",
              "      <th>WindSpeed3pm</th>\n",
              "      <th>Humidity9am</th>\n",
              "      <th>Humidity3pm</th>\n",
              "      <th>Pressure9am</th>\n",
              "      <th>Pressure3pm</th>\n",
              "      <th>Cloud9am</th>\n",
              "      <th>Cloud3pm</th>\n",
              "      <th>Temp9am</th>\n",
              "      <th>Temp3pm</th>\n",
              "      <th>RainToday</th>\n",
              "      <th>RainTomorrow</th>\n",
              "    </tr>\n",
              "  </thead>\n",
              "  <tbody>\n",
              "    <tr>\n",
              "      <th>0</th>\n",
              "      <td>2008-12-01</td>\n",
              "      <td>Albury</td>\n",
              "      <td>13.4</td>\n",
              "      <td>22.9</td>\n",
              "      <td>0.6</td>\n",
              "      <td>NaN</td>\n",
              "      <td>NaN</td>\n",
              "      <td>W</td>\n",
              "      <td>44.0</td>\n",
              "      <td>W</td>\n",
              "      <td>WNW</td>\n",
              "      <td>20.0</td>\n",
              "      <td>24.0</td>\n",
              "      <td>71.0</td>\n",
              "      <td>22.0</td>\n",
              "      <td>1007.7</td>\n",
              "      <td>1007.1</td>\n",
              "      <td>8.0</td>\n",
              "      <td>NaN</td>\n",
              "      <td>16.9</td>\n",
              "      <td>21.8</td>\n",
              "      <td>No</td>\n",
              "      <td>No</td>\n",
              "    </tr>\n",
              "    <tr>\n",
              "      <th>1</th>\n",
              "      <td>2008-12-02</td>\n",
              "      <td>Albury</td>\n",
              "      <td>7.4</td>\n",
              "      <td>25.1</td>\n",
              "      <td>0.0</td>\n",
              "      <td>NaN</td>\n",
              "      <td>NaN</td>\n",
              "      <td>WNW</td>\n",
              "      <td>44.0</td>\n",
              "      <td>NNW</td>\n",
              "      <td>WSW</td>\n",
              "      <td>4.0</td>\n",
              "      <td>22.0</td>\n",
              "      <td>44.0</td>\n",
              "      <td>25.0</td>\n",
              "      <td>1010.6</td>\n",
              "      <td>1007.8</td>\n",
              "      <td>NaN</td>\n",
              "      <td>NaN</td>\n",
              "      <td>17.2</td>\n",
              "      <td>24.3</td>\n",
              "      <td>No</td>\n",
              "      <td>No</td>\n",
              "    </tr>\n",
              "    <tr>\n",
              "      <th>2</th>\n",
              "      <td>2008-12-03</td>\n",
              "      <td>Albury</td>\n",
              "      <td>12.9</td>\n",
              "      <td>25.7</td>\n",
              "      <td>0.0</td>\n",
              "      <td>NaN</td>\n",
              "      <td>NaN</td>\n",
              "      <td>WSW</td>\n",
              "      <td>46.0</td>\n",
              "      <td>W</td>\n",
              "      <td>WSW</td>\n",
              "      <td>19.0</td>\n",
              "      <td>26.0</td>\n",
              "      <td>38.0</td>\n",
              "      <td>30.0</td>\n",
              "      <td>1007.6</td>\n",
              "      <td>1008.7</td>\n",
              "      <td>NaN</td>\n",
              "      <td>2.0</td>\n",
              "      <td>21.0</td>\n",
              "      <td>23.2</td>\n",
              "      <td>No</td>\n",
              "      <td>No</td>\n",
              "    </tr>\n",
              "    <tr>\n",
              "      <th>3</th>\n",
              "      <td>2008-12-04</td>\n",
              "      <td>Albury</td>\n",
              "      <td>9.2</td>\n",
              "      <td>28.0</td>\n",
              "      <td>0.0</td>\n",
              "      <td>NaN</td>\n",
              "      <td>NaN</td>\n",
              "      <td>NE</td>\n",
              "      <td>24.0</td>\n",
              "      <td>SE</td>\n",
              "      <td>E</td>\n",
              "      <td>11.0</td>\n",
              "      <td>9.0</td>\n",
              "      <td>45.0</td>\n",
              "      <td>16.0</td>\n",
              "      <td>1017.6</td>\n",
              "      <td>1012.8</td>\n",
              "      <td>NaN</td>\n",
              "      <td>NaN</td>\n",
              "      <td>18.1</td>\n",
              "      <td>26.5</td>\n",
              "      <td>No</td>\n",
              "      <td>No</td>\n",
              "    </tr>\n",
              "    <tr>\n",
              "      <th>4</th>\n",
              "      <td>2008-12-05</td>\n",
              "      <td>Albury</td>\n",
              "      <td>17.5</td>\n",
              "      <td>32.3</td>\n",
              "      <td>1.0</td>\n",
              "      <td>NaN</td>\n",
              "      <td>NaN</td>\n",
              "      <td>W</td>\n",
              "      <td>41.0</td>\n",
              "      <td>ENE</td>\n",
              "      <td>NW</td>\n",
              "      <td>7.0</td>\n",
              "      <td>20.0</td>\n",
              "      <td>82.0</td>\n",
              "      <td>33.0</td>\n",
              "      <td>1010.8</td>\n",
              "      <td>1006.0</td>\n",
              "      <td>7.0</td>\n",
              "      <td>8.0</td>\n",
              "      <td>17.8</td>\n",
              "      <td>29.7</td>\n",
              "      <td>No</td>\n",
              "      <td>No</td>\n",
              "    </tr>\n",
              "    <tr>\n",
              "      <th>...</th>\n",
              "      <td>...</td>\n",
              "      <td>...</td>\n",
              "      <td>...</td>\n",
              "      <td>...</td>\n",
              "      <td>...</td>\n",
              "      <td>...</td>\n",
              "      <td>...</td>\n",
              "      <td>...</td>\n",
              "      <td>...</td>\n",
              "      <td>...</td>\n",
              "      <td>...</td>\n",
              "      <td>...</td>\n",
              "      <td>...</td>\n",
              "      <td>...</td>\n",
              "      <td>...</td>\n",
              "      <td>...</td>\n",
              "      <td>...</td>\n",
              "      <td>...</td>\n",
              "      <td>...</td>\n",
              "      <td>...</td>\n",
              "      <td>...</td>\n",
              "      <td>...</td>\n",
              "      <td>...</td>\n",
              "    </tr>\n",
              "    <tr>\n",
              "      <th>145455</th>\n",
              "      <td>2017-06-21</td>\n",
              "      <td>Uluru</td>\n",
              "      <td>2.8</td>\n",
              "      <td>23.4</td>\n",
              "      <td>0.0</td>\n",
              "      <td>NaN</td>\n",
              "      <td>NaN</td>\n",
              "      <td>E</td>\n",
              "      <td>31.0</td>\n",
              "      <td>SE</td>\n",
              "      <td>ENE</td>\n",
              "      <td>13.0</td>\n",
              "      <td>11.0</td>\n",
              "      <td>51.0</td>\n",
              "      <td>24.0</td>\n",
              "      <td>1024.6</td>\n",
              "      <td>1020.3</td>\n",
              "      <td>NaN</td>\n",
              "      <td>NaN</td>\n",
              "      <td>10.1</td>\n",
              "      <td>22.4</td>\n",
              "      <td>No</td>\n",
              "      <td>No</td>\n",
              "    </tr>\n",
              "    <tr>\n",
              "      <th>145456</th>\n",
              "      <td>2017-06-22</td>\n",
              "      <td>Uluru</td>\n",
              "      <td>3.6</td>\n",
              "      <td>25.3</td>\n",
              "      <td>0.0</td>\n",
              "      <td>NaN</td>\n",
              "      <td>NaN</td>\n",
              "      <td>NNW</td>\n",
              "      <td>22.0</td>\n",
              "      <td>SE</td>\n",
              "      <td>N</td>\n",
              "      <td>13.0</td>\n",
              "      <td>9.0</td>\n",
              "      <td>56.0</td>\n",
              "      <td>21.0</td>\n",
              "      <td>1023.5</td>\n",
              "      <td>1019.1</td>\n",
              "      <td>NaN</td>\n",
              "      <td>NaN</td>\n",
              "      <td>10.9</td>\n",
              "      <td>24.5</td>\n",
              "      <td>No</td>\n",
              "      <td>No</td>\n",
              "    </tr>\n",
              "    <tr>\n",
              "      <th>145457</th>\n",
              "      <td>2017-06-23</td>\n",
              "      <td>Uluru</td>\n",
              "      <td>5.4</td>\n",
              "      <td>26.9</td>\n",
              "      <td>0.0</td>\n",
              "      <td>NaN</td>\n",
              "      <td>NaN</td>\n",
              "      <td>N</td>\n",
              "      <td>37.0</td>\n",
              "      <td>SE</td>\n",
              "      <td>WNW</td>\n",
              "      <td>9.0</td>\n",
              "      <td>9.0</td>\n",
              "      <td>53.0</td>\n",
              "      <td>24.0</td>\n",
              "      <td>1021.0</td>\n",
              "      <td>1016.8</td>\n",
              "      <td>NaN</td>\n",
              "      <td>NaN</td>\n",
              "      <td>12.5</td>\n",
              "      <td>26.1</td>\n",
              "      <td>No</td>\n",
              "      <td>No</td>\n",
              "    </tr>\n",
              "    <tr>\n",
              "      <th>145458</th>\n",
              "      <td>2017-06-24</td>\n",
              "      <td>Uluru</td>\n",
              "      <td>7.8</td>\n",
              "      <td>27.0</td>\n",
              "      <td>0.0</td>\n",
              "      <td>NaN</td>\n",
              "      <td>NaN</td>\n",
              "      <td>SE</td>\n",
              "      <td>28.0</td>\n",
              "      <td>SSE</td>\n",
              "      <td>N</td>\n",
              "      <td>13.0</td>\n",
              "      <td>7.0</td>\n",
              "      <td>51.0</td>\n",
              "      <td>24.0</td>\n",
              "      <td>1019.4</td>\n",
              "      <td>1016.5</td>\n",
              "      <td>3.0</td>\n",
              "      <td>2.0</td>\n",
              "      <td>15.1</td>\n",
              "      <td>26.0</td>\n",
              "      <td>No</td>\n",
              "      <td>No</td>\n",
              "    </tr>\n",
              "    <tr>\n",
              "      <th>145459</th>\n",
              "      <td>2017-06-25</td>\n",
              "      <td>Uluru</td>\n",
              "      <td>14.9</td>\n",
              "      <td>NaN</td>\n",
              "      <td>0.0</td>\n",
              "      <td>NaN</td>\n",
              "      <td>NaN</td>\n",
              "      <td>NaN</td>\n",
              "      <td>NaN</td>\n",
              "      <td>ESE</td>\n",
              "      <td>ESE</td>\n",
              "      <td>17.0</td>\n",
              "      <td>17.0</td>\n",
              "      <td>62.0</td>\n",
              "      <td>36.0</td>\n",
              "      <td>1020.2</td>\n",
              "      <td>1017.9</td>\n",
              "      <td>8.0</td>\n",
              "      <td>8.0</td>\n",
              "      <td>15.0</td>\n",
              "      <td>20.9</td>\n",
              "      <td>No</td>\n",
              "      <td>NaN</td>\n",
              "    </tr>\n",
              "  </tbody>\n",
              "</table>\n",
              "<p>145460 rows × 23 columns</p>\n",
              "</div>"
            ],
            "text/plain": [
              "              Date Location  MinTemp  ...  Temp3pm  RainToday  RainTomorrow\n",
              "0       2008-12-01   Albury     13.4  ...     21.8         No            No\n",
              "1       2008-12-02   Albury      7.4  ...     24.3         No            No\n",
              "2       2008-12-03   Albury     12.9  ...     23.2         No            No\n",
              "3       2008-12-04   Albury      9.2  ...     26.5         No            No\n",
              "4       2008-12-05   Albury     17.5  ...     29.7         No            No\n",
              "...            ...      ...      ...  ...      ...        ...           ...\n",
              "145455  2017-06-21    Uluru      2.8  ...     22.4         No            No\n",
              "145456  2017-06-22    Uluru      3.6  ...     24.5         No            No\n",
              "145457  2017-06-23    Uluru      5.4  ...     26.1         No            No\n",
              "145458  2017-06-24    Uluru      7.8  ...     26.0         No            No\n",
              "145459  2017-06-25    Uluru     14.9  ...     20.9         No           NaN\n",
              "\n",
              "[145460 rows x 23 columns]"
            ]
          },
          "metadata": {
            "tags": []
          },
          "execution_count": 107
        }
      ]
    },
    {
      "cell_type": "code",
      "metadata": {
        "id": "pUDn7wvdf8nM",
        "colab": {
          "base_uri": "https://localhost:8080/",
          "height": 427
        },
        "outputId": "06ffcfa4-223a-467f-bac8-d981604ef629"
      },
      "source": [
        "#tratando o dataset\n",
        "#Removendo linhas em que nao existem dados\n",
        "dataset = dataset.dropna().copy()\n",
        "#separando o campo data\n",
        "\n",
        "#Tratamento dos dados do tipo string para numerico\n",
        "# gender = {'male': 1,'female': 2} \n",
        "# dados.sex = [gender[item] for item in dados.sex] \n",
        "dataset['Date']= pd.to_datetime(dataset['Date'],format='%Y-%m-%d')\n",
        "dataset['day'] = dataset['Date'].dt.day\n",
        "dataset['month'] = dataset['Date'].dt.month\n",
        "dataset['year'] = dataset['Date'].dt.year\n",
        "#Removendo campo Date\n",
        "dataset = dataset.drop(\"Date\", axis=1)\n",
        "#Organizando colunas\n",
        "cols = dataset.columns.tolist()\n",
        "cols = cols[-1:] + cols[:-1]\n",
        "cols = cols[-1:] + cols[:-1]\n",
        "cols = cols[-1:] + cols[:-1]\n",
        "dataset = dataset[cols] \n",
        "#Tratamento dos dados do tipo string para numerico\n",
        "Location = {'Cobar':0, 'CoffsHarbour':1, 'Moree':2, 'NorfolkIsland':3, 'Sydney':4,'SydneyAirport':5, 'WaggaWagga':6, 'Williamtown':7, 'Canberra':8, 'Sale':9,'MelbourneAirport':10, 'Melbourne':11, 'Mildura':12, 'Portland':13, 'Watsonia':14,'Brisbane':15, 'Cairns':16, 'Townsville':17, 'MountGambier':18, 'Nuriootpa':19,'Woomera':20, 'PerthAirport':21, 'Perth':22, 'Hobart':23, 'AliceSprings':24,'Darwin':25}\n",
        "dataset.Location = [Location[item] for item in dataset.Location] \n",
        "WindGustDir = {'SSW':0, 'S':1, 'NNE':2, 'WNW':3, 'N':4, 'SE':5, 'ENE':6, 'NE':7, 'E':8, 'SW':9, 'W':10,'WSW':11, 'NNW':12, 'ESE':13, 'SSE':14, 'NW':15} \n",
        "dataset.WindGustDir = [WindGustDir[item] for item in dataset.WindGustDir] \n",
        "WindDir9am = {'ENE':0, 'SSE':1, 'NNE':2, 'WNW':3, 'NW':4, 'N':5, 'S':6, 'SE':7, 'NE':8, 'W':9, 'SSW':10,'E':11, 'NNW':12, 'ESE':13, 'WSW':14, 'SW':15} \n",
        "dataset.WindDir9am = [WindDir9am[item] for item in dataset.WindDir9am] \n",
        "WindDir3pm = {'SW':0, 'SSE':1, 'NNW':2, 'WSW':3, 'WNW':4, 'S':5, 'ENE':6, 'N':7, 'SE':8, 'NNE':9,'NW':10, 'E':11, 'ESE':12, 'NE':13, 'SSW':14, 'W':15} \n",
        "dataset.WindDir3pm = [WindDir3pm[item] for item in dataset.WindDir3pm] \n",
        "RainToday = {'No':0, 'Yes':1} \n",
        "dataset.RainToday = [RainToday[item] for item in dataset.RainToday] \n",
        "RainTomorrow = {'No':0, 'Yes':1} \n",
        "dataset.RainTomorrow = [RainTomorrow[item] for item in dataset.RainTomorrow] \n",
        "dataset"
      ],
      "execution_count": 108,
      "outputs": [
        {
          "output_type": "execute_result",
          "data": {
            "text/html": [
              "<div>\n",
              "<style scoped>\n",
              "    .dataframe tbody tr th:only-of-type {\n",
              "        vertical-align: middle;\n",
              "    }\n",
              "\n",
              "    .dataframe tbody tr th {\n",
              "        vertical-align: top;\n",
              "    }\n",
              "\n",
              "    .dataframe thead th {\n",
              "        text-align: right;\n",
              "    }\n",
              "</style>\n",
              "<table border=\"1\" class=\"dataframe\">\n",
              "  <thead>\n",
              "    <tr style=\"text-align: right;\">\n",
              "      <th></th>\n",
              "      <th>day</th>\n",
              "      <th>month</th>\n",
              "      <th>year</th>\n",
              "      <th>Location</th>\n",
              "      <th>MinTemp</th>\n",
              "      <th>MaxTemp</th>\n",
              "      <th>Rainfall</th>\n",
              "      <th>Evaporation</th>\n",
              "      <th>Sunshine</th>\n",
              "      <th>WindGustDir</th>\n",
              "      <th>WindGustSpeed</th>\n",
              "      <th>WindDir9am</th>\n",
              "      <th>WindDir3pm</th>\n",
              "      <th>WindSpeed9am</th>\n",
              "      <th>WindSpeed3pm</th>\n",
              "      <th>Humidity9am</th>\n",
              "      <th>Humidity3pm</th>\n",
              "      <th>Pressure9am</th>\n",
              "      <th>Pressure3pm</th>\n",
              "      <th>Cloud9am</th>\n",
              "      <th>Cloud3pm</th>\n",
              "      <th>Temp9am</th>\n",
              "      <th>Temp3pm</th>\n",
              "      <th>RainToday</th>\n",
              "      <th>RainTomorrow</th>\n",
              "    </tr>\n",
              "  </thead>\n",
              "  <tbody>\n",
              "    <tr>\n",
              "      <th>6049</th>\n",
              "      <td>1</td>\n",
              "      <td>1</td>\n",
              "      <td>2009</td>\n",
              "      <td>0</td>\n",
              "      <td>17.9</td>\n",
              "      <td>35.2</td>\n",
              "      <td>0.0</td>\n",
              "      <td>12.0</td>\n",
              "      <td>12.3</td>\n",
              "      <td>0</td>\n",
              "      <td>48.0</td>\n",
              "      <td>0</td>\n",
              "      <td>0</td>\n",
              "      <td>6.0</td>\n",
              "      <td>20.0</td>\n",
              "      <td>20.0</td>\n",
              "      <td>13.0</td>\n",
              "      <td>1006.3</td>\n",
              "      <td>1004.4</td>\n",
              "      <td>2.0</td>\n",
              "      <td>5.0</td>\n",
              "      <td>26.6</td>\n",
              "      <td>33.4</td>\n",
              "      <td>0</td>\n",
              "      <td>0</td>\n",
              "    </tr>\n",
              "    <tr>\n",
              "      <th>6050</th>\n",
              "      <td>2</td>\n",
              "      <td>1</td>\n",
              "      <td>2009</td>\n",
              "      <td>0</td>\n",
              "      <td>18.4</td>\n",
              "      <td>28.9</td>\n",
              "      <td>0.0</td>\n",
              "      <td>14.8</td>\n",
              "      <td>13.0</td>\n",
              "      <td>1</td>\n",
              "      <td>37.0</td>\n",
              "      <td>1</td>\n",
              "      <td>1</td>\n",
              "      <td>19.0</td>\n",
              "      <td>19.0</td>\n",
              "      <td>30.0</td>\n",
              "      <td>8.0</td>\n",
              "      <td>1012.9</td>\n",
              "      <td>1012.1</td>\n",
              "      <td>1.0</td>\n",
              "      <td>1.0</td>\n",
              "      <td>20.3</td>\n",
              "      <td>27.0</td>\n",
              "      <td>0</td>\n",
              "      <td>0</td>\n",
              "    </tr>\n",
              "    <tr>\n",
              "      <th>6052</th>\n",
              "      <td>4</td>\n",
              "      <td>1</td>\n",
              "      <td>2009</td>\n",
              "      <td>0</td>\n",
              "      <td>19.4</td>\n",
              "      <td>37.6</td>\n",
              "      <td>0.0</td>\n",
              "      <td>10.8</td>\n",
              "      <td>10.6</td>\n",
              "      <td>2</td>\n",
              "      <td>46.0</td>\n",
              "      <td>2</td>\n",
              "      <td>2</td>\n",
              "      <td>30.0</td>\n",
              "      <td>15.0</td>\n",
              "      <td>42.0</td>\n",
              "      <td>22.0</td>\n",
              "      <td>1012.3</td>\n",
              "      <td>1009.2</td>\n",
              "      <td>1.0</td>\n",
              "      <td>6.0</td>\n",
              "      <td>28.7</td>\n",
              "      <td>34.9</td>\n",
              "      <td>0</td>\n",
              "      <td>0</td>\n",
              "    </tr>\n",
              "    <tr>\n",
              "      <th>6053</th>\n",
              "      <td>5</td>\n",
              "      <td>1</td>\n",
              "      <td>2009</td>\n",
              "      <td>0</td>\n",
              "      <td>21.9</td>\n",
              "      <td>38.4</td>\n",
              "      <td>0.0</td>\n",
              "      <td>11.4</td>\n",
              "      <td>12.2</td>\n",
              "      <td>3</td>\n",
              "      <td>31.0</td>\n",
              "      <td>3</td>\n",
              "      <td>3</td>\n",
              "      <td>6.0</td>\n",
              "      <td>6.0</td>\n",
              "      <td>37.0</td>\n",
              "      <td>22.0</td>\n",
              "      <td>1012.7</td>\n",
              "      <td>1009.1</td>\n",
              "      <td>1.0</td>\n",
              "      <td>5.0</td>\n",
              "      <td>29.1</td>\n",
              "      <td>35.6</td>\n",
              "      <td>0</td>\n",
              "      <td>0</td>\n",
              "    </tr>\n",
              "    <tr>\n",
              "      <th>6054</th>\n",
              "      <td>6</td>\n",
              "      <td>1</td>\n",
              "      <td>2009</td>\n",
              "      <td>0</td>\n",
              "      <td>24.2</td>\n",
              "      <td>41.0</td>\n",
              "      <td>0.0</td>\n",
              "      <td>11.2</td>\n",
              "      <td>8.4</td>\n",
              "      <td>3</td>\n",
              "      <td>35.0</td>\n",
              "      <td>4</td>\n",
              "      <td>4</td>\n",
              "      <td>17.0</td>\n",
              "      <td>13.0</td>\n",
              "      <td>19.0</td>\n",
              "      <td>15.0</td>\n",
              "      <td>1010.7</td>\n",
              "      <td>1007.4</td>\n",
              "      <td>1.0</td>\n",
              "      <td>6.0</td>\n",
              "      <td>33.6</td>\n",
              "      <td>37.6</td>\n",
              "      <td>0</td>\n",
              "      <td>0</td>\n",
              "    </tr>\n",
              "    <tr>\n",
              "      <th>...</th>\n",
              "      <td>...</td>\n",
              "      <td>...</td>\n",
              "      <td>...</td>\n",
              "      <td>...</td>\n",
              "      <td>...</td>\n",
              "      <td>...</td>\n",
              "      <td>...</td>\n",
              "      <td>...</td>\n",
              "      <td>...</td>\n",
              "      <td>...</td>\n",
              "      <td>...</td>\n",
              "      <td>...</td>\n",
              "      <td>...</td>\n",
              "      <td>...</td>\n",
              "      <td>...</td>\n",
              "      <td>...</td>\n",
              "      <td>...</td>\n",
              "      <td>...</td>\n",
              "      <td>...</td>\n",
              "      <td>...</td>\n",
              "      <td>...</td>\n",
              "      <td>...</td>\n",
              "      <td>...</td>\n",
              "      <td>...</td>\n",
              "      <td>...</td>\n",
              "    </tr>\n",
              "    <tr>\n",
              "      <th>142298</th>\n",
              "      <td>20</td>\n",
              "      <td>6</td>\n",
              "      <td>2017</td>\n",
              "      <td>25</td>\n",
              "      <td>19.3</td>\n",
              "      <td>33.4</td>\n",
              "      <td>0.0</td>\n",
              "      <td>6.0</td>\n",
              "      <td>11.0</td>\n",
              "      <td>6</td>\n",
              "      <td>35.0</td>\n",
              "      <td>7</td>\n",
              "      <td>13</td>\n",
              "      <td>9.0</td>\n",
              "      <td>20.0</td>\n",
              "      <td>63.0</td>\n",
              "      <td>32.0</td>\n",
              "      <td>1013.9</td>\n",
              "      <td>1010.5</td>\n",
              "      <td>0.0</td>\n",
              "      <td>1.0</td>\n",
              "      <td>24.5</td>\n",
              "      <td>32.3</td>\n",
              "      <td>0</td>\n",
              "      <td>0</td>\n",
              "    </tr>\n",
              "    <tr>\n",
              "      <th>142299</th>\n",
              "      <td>21</td>\n",
              "      <td>6</td>\n",
              "      <td>2017</td>\n",
              "      <td>25</td>\n",
              "      <td>21.2</td>\n",
              "      <td>32.6</td>\n",
              "      <td>0.0</td>\n",
              "      <td>7.6</td>\n",
              "      <td>8.6</td>\n",
              "      <td>8</td>\n",
              "      <td>37.0</td>\n",
              "      <td>7</td>\n",
              "      <td>8</td>\n",
              "      <td>13.0</td>\n",
              "      <td>11.0</td>\n",
              "      <td>56.0</td>\n",
              "      <td>28.0</td>\n",
              "      <td>1014.6</td>\n",
              "      <td>1011.2</td>\n",
              "      <td>7.0</td>\n",
              "      <td>0.0</td>\n",
              "      <td>24.8</td>\n",
              "      <td>32.0</td>\n",
              "      <td>0</td>\n",
              "      <td>0</td>\n",
              "    </tr>\n",
              "    <tr>\n",
              "      <th>142300</th>\n",
              "      <td>22</td>\n",
              "      <td>6</td>\n",
              "      <td>2017</td>\n",
              "      <td>25</td>\n",
              "      <td>20.7</td>\n",
              "      <td>32.8</td>\n",
              "      <td>0.0</td>\n",
              "      <td>5.6</td>\n",
              "      <td>11.0</td>\n",
              "      <td>8</td>\n",
              "      <td>33.0</td>\n",
              "      <td>11</td>\n",
              "      <td>15</td>\n",
              "      <td>17.0</td>\n",
              "      <td>11.0</td>\n",
              "      <td>46.0</td>\n",
              "      <td>23.0</td>\n",
              "      <td>1015.3</td>\n",
              "      <td>1011.8</td>\n",
              "      <td>0.0</td>\n",
              "      <td>0.0</td>\n",
              "      <td>24.8</td>\n",
              "      <td>32.1</td>\n",
              "      <td>0</td>\n",
              "      <td>0</td>\n",
              "    </tr>\n",
              "    <tr>\n",
              "      <th>142301</th>\n",
              "      <td>23</td>\n",
              "      <td>6</td>\n",
              "      <td>2017</td>\n",
              "      <td>25</td>\n",
              "      <td>19.5</td>\n",
              "      <td>31.8</td>\n",
              "      <td>0.0</td>\n",
              "      <td>6.2</td>\n",
              "      <td>10.6</td>\n",
              "      <td>13</td>\n",
              "      <td>26.0</td>\n",
              "      <td>7</td>\n",
              "      <td>2</td>\n",
              "      <td>9.0</td>\n",
              "      <td>17.0</td>\n",
              "      <td>62.0</td>\n",
              "      <td>58.0</td>\n",
              "      <td>1014.9</td>\n",
              "      <td>1010.7</td>\n",
              "      <td>1.0</td>\n",
              "      <td>1.0</td>\n",
              "      <td>24.8</td>\n",
              "      <td>29.2</td>\n",
              "      <td>0</td>\n",
              "      <td>0</td>\n",
              "    </tr>\n",
              "    <tr>\n",
              "      <th>142302</th>\n",
              "      <td>24</td>\n",
              "      <td>6</td>\n",
              "      <td>2017</td>\n",
              "      <td>25</td>\n",
              "      <td>20.2</td>\n",
              "      <td>31.7</td>\n",
              "      <td>0.0</td>\n",
              "      <td>5.6</td>\n",
              "      <td>10.7</td>\n",
              "      <td>6</td>\n",
              "      <td>30.0</td>\n",
              "      <td>0</td>\n",
              "      <td>2</td>\n",
              "      <td>15.0</td>\n",
              "      <td>7.0</td>\n",
              "      <td>73.0</td>\n",
              "      <td>32.0</td>\n",
              "      <td>1013.9</td>\n",
              "      <td>1009.7</td>\n",
              "      <td>6.0</td>\n",
              "      <td>5.0</td>\n",
              "      <td>25.4</td>\n",
              "      <td>31.0</td>\n",
              "      <td>0</td>\n",
              "      <td>0</td>\n",
              "    </tr>\n",
              "  </tbody>\n",
              "</table>\n",
              "<p>56420 rows × 25 columns</p>\n",
              "</div>"
            ],
            "text/plain": [
              "        day  month  year  Location  ...  Temp9am  Temp3pm  RainToday  RainTomorrow\n",
              "6049      1      1  2009         0  ...     26.6     33.4          0             0\n",
              "6050      2      1  2009         0  ...     20.3     27.0          0             0\n",
              "6052      4      1  2009         0  ...     28.7     34.9          0             0\n",
              "6053      5      1  2009         0  ...     29.1     35.6          0             0\n",
              "6054      6      1  2009         0  ...     33.6     37.6          0             0\n",
              "...     ...    ...   ...       ...  ...      ...      ...        ...           ...\n",
              "142298   20      6  2017        25  ...     24.5     32.3          0             0\n",
              "142299   21      6  2017        25  ...     24.8     32.0          0             0\n",
              "142300   22      6  2017        25  ...     24.8     32.1          0             0\n",
              "142301   23      6  2017        25  ...     24.8     29.2          0             0\n",
              "142302   24      6  2017        25  ...     25.4     31.0          0             0\n",
              "\n",
              "[56420 rows x 25 columns]"
            ]
          },
          "metadata": {
            "tags": []
          },
          "execution_count": 108
        }
      ]
    },
    {
      "cell_type": "code",
      "metadata": {
        "id": "aV1r9hvwgBKx",
        "colab": {
          "base_uri": "https://localhost:8080/"
        },
        "outputId": "2570b6d1-8e94-4f9f-c233-06b4e0cfe7e2"
      },
      "source": [
        "X = dataset.iloc[:,0:24].values\n",
        "y = dataset.iloc[:,24].values\n",
        "\n",
        "print(X[0:6,:])"
      ],
      "execution_count": 128,
      "outputs": [
        {
          "output_type": "stream",
          "text": [
            "[[1.0000e+00 1.0000e+00 2.0090e+03 0.0000e+00 1.7900e+01 3.5200e+01\n",
            "  0.0000e+00 1.2000e+01 1.2300e+01 0.0000e+00 4.8000e+01 0.0000e+00\n",
            "  0.0000e+00 6.0000e+00 2.0000e+01 2.0000e+01 1.3000e+01 1.0063e+03\n",
            "  1.0044e+03 2.0000e+00 5.0000e+00 2.6600e+01 3.3400e+01 0.0000e+00]\n",
            " [2.0000e+00 1.0000e+00 2.0090e+03 0.0000e+00 1.8400e+01 2.8900e+01\n",
            "  0.0000e+00 1.4800e+01 1.3000e+01 1.0000e+00 3.7000e+01 1.0000e+00\n",
            "  1.0000e+00 1.9000e+01 1.9000e+01 3.0000e+01 8.0000e+00 1.0129e+03\n",
            "  1.0121e+03 1.0000e+00 1.0000e+00 2.0300e+01 2.7000e+01 0.0000e+00]\n",
            " [4.0000e+00 1.0000e+00 2.0090e+03 0.0000e+00 1.9400e+01 3.7600e+01\n",
            "  0.0000e+00 1.0800e+01 1.0600e+01 2.0000e+00 4.6000e+01 2.0000e+00\n",
            "  2.0000e+00 3.0000e+01 1.5000e+01 4.2000e+01 2.2000e+01 1.0123e+03\n",
            "  1.0092e+03 1.0000e+00 6.0000e+00 2.8700e+01 3.4900e+01 0.0000e+00]\n",
            " [5.0000e+00 1.0000e+00 2.0090e+03 0.0000e+00 2.1900e+01 3.8400e+01\n",
            "  0.0000e+00 1.1400e+01 1.2200e+01 3.0000e+00 3.1000e+01 3.0000e+00\n",
            "  3.0000e+00 6.0000e+00 6.0000e+00 3.7000e+01 2.2000e+01 1.0127e+03\n",
            "  1.0091e+03 1.0000e+00 5.0000e+00 2.9100e+01 3.5600e+01 0.0000e+00]\n",
            " [6.0000e+00 1.0000e+00 2.0090e+03 0.0000e+00 2.4200e+01 4.1000e+01\n",
            "  0.0000e+00 1.1200e+01 8.4000e+00 3.0000e+00 3.5000e+01 4.0000e+00\n",
            "  4.0000e+00 1.7000e+01 1.3000e+01 1.9000e+01 1.5000e+01 1.0107e+03\n",
            "  1.0074e+03 1.0000e+00 6.0000e+00 3.3600e+01 3.7600e+01 0.0000e+00]\n",
            " [7.0000e+00 1.0000e+00 2.0090e+03 0.0000e+00 2.7100e+01 3.6100e+01\n",
            "  0.0000e+00 1.3000e+01 0.0000e+00 4.0000e+00 4.3000e+01 5.0000e+00\n",
            "  4.0000e+00 7.0000e+00 2.0000e+01 2.6000e+01 1.9000e+01 1.0077e+03\n",
            "  1.0074e+03 8.0000e+00 8.0000e+00 3.0700e+01 3.4300e+01 0.0000e+00]]\n"
          ],
          "name": "stdout"
        }
      ]
    },
    {
      "cell_type": "markdown",
      "metadata": {
        "id": "6f-Pl3gAgWCQ"
      },
      "source": [
        "## Dividindo para terinamento e teste"
      ]
    },
    {
      "cell_type": "code",
      "metadata": {
        "id": "YI636TIKgEkS"
      },
      "source": [
        "from sklearn.model_selection import train_test_split\n",
        "X_train, X_test, y_train, y_test = train_test_split(X, y, test_size = 0.2, random_state = 0)"
      ],
      "execution_count": 134,
      "outputs": []
    },
    {
      "cell_type": "markdown",
      "metadata": {
        "id": "Tu4PaKpqglLv"
      },
      "source": [
        "## Tratando os dados para o treinamento"
      ]
    },
    {
      "cell_type": "code",
      "metadata": {
        "id": "WRvJchaHgpuV"
      },
      "source": [
        "# Normalização \n",
        "from sklearn.preprocessing import StandardScaler\n",
        "sc = StandardScaler()\n",
        "X_train = sc.fit_transform(X_train)\n",
        "X_test = sc.transform(X_test)"
      ],
      "execution_count": 135,
      "outputs": []
    },
    {
      "cell_type": "code",
      "metadata": {
        "id": "ChQ0QQzQg77Y",
        "colab": {
          "base_uri": "https://localhost:8080/"
        },
        "outputId": "96858048-1c0a-4044-bc3d-a883ca6a61b3"
      },
      "source": [
        "print(X_test[0:6,:])"
      ],
      "execution_count": 136,
      "outputs": [
        {
          "output_type": "stream",
          "text": [
            "[[-0.99774357  1.03946794 -0.90767332  0.74871371 -2.00598891 -1.17641005\n",
            "  -0.30480098  0.08308324  0.60447807  0.83316371 -0.44061749  0.5759566\n",
            "  -0.96826418  0.39856964  0.02310031 -0.58794917 -0.42723115  1.56997191\n",
            "   1.68667341 -1.15670615 -0.4984601  -1.3082613  -1.02324863 -0.53112203]\n",
            " [ 0.59783005  1.3298255   1.54224404 -1.32686027  0.9732028   0.60103297\n",
            "  -0.30480098  0.51615759 -0.46042709  0.15510747 -0.44061749  0.79445027\n",
            "  -0.32258625 -0.5626828  -0.3289104   0.0596692   0.71181199  0.16565441\n",
            "   0.04220215  0.62933127  0.256675    0.97392023  0.40947993 -0.53112203]\n",
            " [-0.99774357 -1.57375003 -0.49935376  1.4405717   1.53472585  2.04878898\n",
            "   0.38050896  1.32817199  0.60447807 -1.42702377  1.20619954 -0.51651176\n",
            "   0.10786571  0.99935242 -1.26760565 -1.07366294 -1.12056175 -2.2955206\n",
            "  -2.57730959  0.27212379  0.63424255  1.78029103  2.22232014  1.88280648]\n",
            " [ 0.82576914 -0.41231982  1.9505636   0.05685572 -0.41500695 -0.64604399\n",
            "  -0.30480098 -0.07931965 -0.77989864  1.05918246 -0.44061749 -0.51651176\n",
            "  -0.10736027 -0.5626828  -0.79825803  0.32951018  0.31562307  0.09326691\n",
            "  -0.13243197  0.98653876 -1.25359521 -0.53231958 -0.49694018 -0.53112203]\n",
            " [-0.88377402 -0.41231982 -0.49935376 -1.18848867 -0.71136634 -0.34502541\n",
            "  -0.30480098 -1.05373693  0.6311007   0.83316371 -0.29090685 -0.73500543\n",
            "  -1.18349016 -0.32236969 -1.50227946 -0.26413998 -0.97199091 -0.45687809\n",
            "  -0.62722863 -0.44229118 -0.4984601  -0.62360684 -0.32150403 -0.53112203]\n",
            " [ 1.28164731 -0.41231982 -1.31599288  0.88708531 -0.83614923 -0.975731\n",
            "  -0.30480098 -1.16200552 -0.14095554  1.51121996 -0.74003877 -0.07952442\n",
            "   0.10786571 -0.5626828  -1.26760565  1.19300134 -0.62532561  1.10669191\n",
            "   1.11911253 -1.15670615 -0.4984601  -1.01918498 -0.84781248 -0.53112203]]\n"
          ],
          "name": "stdout"
        }
      ]
    },
    {
      "cell_type": "markdown",
      "metadata": {
        "id": "ctN4zaFIhKE2"
      },
      "source": [
        "## Treinamento "
      ]
    },
    {
      "cell_type": "code",
      "metadata": {
        "id": "X3nCAnvdhMp3"
      },
      "source": [
        "import tensorflow as tf\n"
      ],
      "execution_count": 137,
      "outputs": []
    },
    {
      "cell_type": "markdown",
      "metadata": {
        "id": "eP1cvVBAjEvR"
      },
      "source": [
        "### Construíndo a estrutura da rede"
      ]
    },
    {
      "cell_type": "code",
      "metadata": {
        "id": "jsVxArvmhoIF"
      },
      "source": [
        "# Inicialização \n",
        "classifier = tf.keras.models.Sequential()\n",
        "\n",
        "# Adicionando a camada de entrada e a primeira camada escondida  \n",
        "classifier.add( tf.keras.layers.Dense( activation = 'relu', input_dim = 24, units = 26, kernel_initializer = 'uniform'))\n",
        "\n",
        "# Adicionando a segunda camada escondida \n",
        "classifier.add( tf.keras.layers.Dense( activation = 'relu', units = 26, kernel_initializer = 'uniform' ))\n",
        "\n",
        "# Adicionando a camada de saída \n",
        "classifier.add( tf.keras.layers.Dense( activation = 'sigmoid', units = 1, kernel_initializer = 'uniform'))"
      ],
      "execution_count": 152,
      "outputs": []
    },
    {
      "cell_type": "code",
      "metadata": {
        "id": "OM1bQg9ri7VN"
      },
      "source": [
        "# Montando a Rede \n",
        "classifier.compile(optimizer = 'adam', loss = 'binary_crossentropy', metrics = ['accuracy'])"
      ],
      "execution_count": 153,
      "outputs": []
    },
    {
      "cell_type": "markdown",
      "metadata": {
        "id": "LFEdasj9jL7t"
      },
      "source": [
        "### Treinando "
      ]
    },
    {
      "cell_type": "code",
      "metadata": {
        "id": "xeajLNFWjP3g",
        "colab": {
          "base_uri": "https://localhost:8080/"
        },
        "outputId": "d3ad899a-3158-4ff8-abeb-a7aa7caaf552"
      },
      "source": [
        "# Fitting the ANN to the Training set\n",
        "classifier.fit(X_train, y_train, batch_size = 5, epochs = 10)"
      ],
      "execution_count": 154,
      "outputs": [
        {
          "output_type": "stream",
          "text": [
            "Epoch 1/10\n",
            "9028/9028 [==============================] - 13s 1ms/step - loss: 0.3663 - accuracy: 0.8381\n",
            "Epoch 2/10\n",
            "9028/9028 [==============================] - 13s 1ms/step - loss: 0.3322 - accuracy: 0.8535\n",
            "Epoch 3/10\n",
            "9028/9028 [==============================] - 13s 1ms/step - loss: 0.3244 - accuracy: 0.8588\n",
            "Epoch 4/10\n",
            "9028/9028 [==============================] - 12s 1ms/step - loss: 0.3287 - accuracy: 0.8546\n",
            "Epoch 5/10\n",
            "9028/9028 [==============================] - 12s 1ms/step - loss: 0.3237 - accuracy: 0.8567\n",
            "Epoch 6/10\n",
            "9028/9028 [==============================] - 12s 1ms/step - loss: 0.3242 - accuracy: 0.8580\n",
            "Epoch 7/10\n",
            "9028/9028 [==============================] - 12s 1ms/step - loss: 0.3253 - accuracy: 0.8580\n",
            "Epoch 8/10\n",
            "9028/9028 [==============================] - 12s 1ms/step - loss: 0.3192 - accuracy: 0.8604\n",
            "Epoch 9/10\n",
            "9028/9028 [==============================] - 12s 1ms/step - loss: 0.3202 - accuracy: 0.8619\n",
            "Epoch 10/10\n",
            "9028/9028 [==============================] - 12s 1ms/step - loss: 0.3149 - accuracy: 0.8616\n"
          ],
          "name": "stdout"
        },
        {
          "output_type": "execute_result",
          "data": {
            "text/plain": [
              "<tensorflow.python.keras.callbacks.History at 0x7fb258ee3850>"
            ]
          },
          "metadata": {
            "tags": []
          },
          "execution_count": 154
        }
      ]
    },
    {
      "cell_type": "markdown",
      "metadata": {
        "id": "2ZlrcU4Gj8o8"
      },
      "source": [
        "## Avaliação do treinamento "
      ]
    },
    {
      "cell_type": "code",
      "metadata": {
        "id": "q_8UZMZqjngh",
        "colab": {
          "base_uri": "https://localhost:8080/"
        },
        "outputId": "fc6c67f6-2720-4c20-d252-312b1013a779"
      },
      "source": [
        "# Testando a rede \n",
        "# Apresentando o conjunto de testes e usando o método predict \n",
        "y_pred = classifier.predict(X_test)\n",
        "print(y_pred[0:10])\n",
        "\n",
        "y_pred = (y_pred > 0.5)\n",
        "print(y_pred[0:10])\n",
        "\n",
        "# Making the Confusion Matrix\n",
        "from sklearn.metrics import confusion_matrix\n",
        "cm = confusion_matrix(y_test, y_pred)"
      ],
      "execution_count": 155,
      "outputs": [
        {
          "output_type": "stream",
          "text": [
            "[[0.002193  ]\n",
            " [0.38577113]\n",
            " [0.1552599 ]\n",
            " [0.32905483]\n",
            " [0.02400553]\n",
            " [0.00909367]\n",
            " [0.34874082]\n",
            " [0.00614169]\n",
            " [0.00587797]\n",
            " [0.1651851 ]]\n",
            "[[False]\n",
            " [False]\n",
            " [False]\n",
            " [False]\n",
            " [False]\n",
            " [False]\n",
            " [False]\n",
            " [False]\n",
            " [False]\n",
            " [False]]\n"
          ],
          "name": "stdout"
        }
      ]
    },
    {
      "cell_type": "code",
      "metadata": {
        "id": "Hg53wyxKkLud",
        "colab": {
          "base_uri": "https://localhost:8080/"
        },
        "outputId": "72f1daa8-5a70-43a9-98e8-6fb606bb5862"
      },
      "source": [
        "print(\"Matriz de Confusão:\")\n",
        "print(cm)\n",
        "print(\"Taxa de acerto:\")\n",
        "print((cm[0,0]+cm[1,1])/len(y_test) )\n",
        "print(len(y_test))"
      ],
      "execution_count": 156,
      "outputs": [
        {
          "output_type": "stream",
          "text": [
            "Matriz de Confusão:\n",
            "[[8266  588]\n",
            " [ 973 1457]]\n",
            "Taxa de acerto:\n",
            "0.8616625310173698\n",
            "11284\n"
          ],
          "name": "stdout"
        }
      ]
    },
    {
      "cell_type": "markdown",
      "metadata": {
        "id": "PUD96K2W6vSI"
      },
      "source": [
        "## Treinamento com 3 camadas escondidas"
      ]
    },
    {
      "cell_type": "code",
      "metadata": {
        "id": "9PSgZoaJ6vSK"
      },
      "source": [
        "import tensorflow as tf\n"
      ],
      "execution_count": 157,
      "outputs": []
    },
    {
      "cell_type": "markdown",
      "metadata": {
        "id": "G5MBXXm26vSL"
      },
      "source": [
        "### Construíndo a estrutura da rede"
      ]
    },
    {
      "cell_type": "code",
      "metadata": {
        "id": "bi3KhlIK6vSL"
      },
      "source": [
        "# Inicialização \n",
        "classifier = tf.keras.models.Sequential()\n",
        "\n",
        "# Adicionando a camada de entrada e a primeira camada escondida  \n",
        "classifier.add( tf.keras.layers.Dense( activation = 'relu', input_dim = 24, units = 26, kernel_initializer = 'uniform'))\n",
        "\n",
        "# Adicionando a segunda camada escondida \n",
        "classifier.add( tf.keras.layers.Dense( activation = 'relu', units = 26, kernel_initializer = 'uniform' ))\n",
        "\n",
        "# Adicionando a terceira camada escondida \n",
        "classifier.add( tf.keras.layers.Dense( activation = 'relu', units = 26, kernel_initializer = 'uniform' ))\n",
        "\n",
        "# Adicionando a camada de saída \n",
        "classifier.add( tf.keras.layers.Dense( activation = 'sigmoid', units = 1, kernel_initializer = 'uniform'))"
      ],
      "execution_count": 158,
      "outputs": []
    },
    {
      "cell_type": "code",
      "metadata": {
        "id": "3s5uCgSZ6vSM"
      },
      "source": [
        "# Montando a Rede \n",
        "classifier.compile(optimizer = 'adam', loss = 'binary_crossentropy', metrics = ['accuracy'])"
      ],
      "execution_count": 159,
      "outputs": []
    },
    {
      "cell_type": "markdown",
      "metadata": {
        "id": "2NCTzYPH6vSN"
      },
      "source": [
        "### Treinando "
      ]
    },
    {
      "cell_type": "code",
      "metadata": {
        "colab": {
          "base_uri": "https://localhost:8080/"
        },
        "id": "ZP4z2FNM6vSN",
        "outputId": "7c6a40af-72af-45f1-9b91-78b7d495ed0f"
      },
      "source": [
        "# Fitting the ANN to the Training set\n",
        "classifier.fit(X_train, y_train, batch_size = 5, epochs = 10)"
      ],
      "execution_count": 160,
      "outputs": [
        {
          "output_type": "stream",
          "text": [
            "Epoch 1/10\n",
            "9028/9028 [==============================] - 13s 1ms/step - loss: 0.3670 - accuracy: 0.8382\n",
            "Epoch 2/10\n",
            "9028/9028 [==============================] - 13s 1ms/step - loss: 0.3353 - accuracy: 0.8533\n",
            "Epoch 3/10\n",
            "9028/9028 [==============================] - 13s 1ms/step - loss: 0.3335 - accuracy: 0.8542\n",
            "Epoch 4/10\n",
            "9028/9028 [==============================] - 13s 1ms/step - loss: 0.3295 - accuracy: 0.8561\n",
            "Epoch 5/10\n",
            "9028/9028 [==============================] - 13s 1ms/step - loss: 0.3286 - accuracy: 0.8548\n",
            "Epoch 6/10\n",
            "9028/9028 [==============================] - 13s 1ms/step - loss: 0.3291 - accuracy: 0.8566\n",
            "Epoch 7/10\n",
            "9028/9028 [==============================] - 13s 1ms/step - loss: 0.3238 - accuracy: 0.8580\n",
            "Epoch 8/10\n",
            "9028/9028 [==============================] - 13s 1ms/step - loss: 0.3233 - accuracy: 0.8583\n",
            "Epoch 9/10\n",
            "9028/9028 [==============================] - 14s 2ms/step - loss: 0.3173 - accuracy: 0.8622\n",
            "Epoch 10/10\n",
            "9028/9028 [==============================] - 13s 1ms/step - loss: 0.3240 - accuracy: 0.8588\n"
          ],
          "name": "stdout"
        },
        {
          "output_type": "execute_result",
          "data": {
            "text/plain": [
              "<tensorflow.python.keras.callbacks.History at 0x7fb258ee0250>"
            ]
          },
          "metadata": {
            "tags": []
          },
          "execution_count": 160
        }
      ]
    },
    {
      "cell_type": "markdown",
      "metadata": {
        "id": "56nX4ZXY6vSN"
      },
      "source": [
        "## Avaliação do treinamento "
      ]
    },
    {
      "cell_type": "code",
      "metadata": {
        "colab": {
          "base_uri": "https://localhost:8080/"
        },
        "id": "ST7TvDrJ6vSN",
        "outputId": "e4be854f-dd67-4574-d95e-c76c1643008e"
      },
      "source": [
        "# Testando a rede \n",
        "# Apresentando o conjunto de testes e usando o método predict \n",
        "y_pred = classifier.predict(X_test)\n",
        "print(y_pred[0:10])\n",
        "\n",
        "y_pred = (y_pred > 0.5)\n",
        "print(y_pred[0:10])\n",
        "\n",
        "# Making the Confusion Matrix\n",
        "from sklearn.metrics import confusion_matrix\n",
        "cm = confusion_matrix(y_test, y_pred)"
      ],
      "execution_count": 161,
      "outputs": [
        {
          "output_type": "stream",
          "text": [
            "[[0.0073154 ]\n",
            " [0.29296792]\n",
            " [0.2417095 ]\n",
            " [0.35841274]\n",
            " [0.07529622]\n",
            " [0.01278964]\n",
            " [0.30802655]\n",
            " [0.01770312]\n",
            " [0.01218089]\n",
            " [0.2241509 ]]\n",
            "[[False]\n",
            " [False]\n",
            " [False]\n",
            " [False]\n",
            " [False]\n",
            " [False]\n",
            " [False]\n",
            " [False]\n",
            " [False]\n",
            " [False]]\n"
          ],
          "name": "stdout"
        }
      ]
    },
    {
      "cell_type": "code",
      "metadata": {
        "colab": {
          "base_uri": "https://localhost:8080/"
        },
        "id": "88eogblR6vSN",
        "outputId": "dd97c50e-3b3f-41ca-feb9-7a935c9f9de3"
      },
      "source": [
        "print(\"Matriz de Confusão:\")\n",
        "print(cm)\n",
        "print(\"Taxa de acerto:\")\n",
        "print((cm[0,0]+cm[1,1])/len(y_test) )\n",
        "print(len(y_test))"
      ],
      "execution_count": 162,
      "outputs": [
        {
          "output_type": "stream",
          "text": [
            "Matriz de Confusão:\n",
            "[[8482  372]\n",
            " [1165 1265]]\n",
            "Taxa de acerto:\n",
            "0.8637894363700815\n",
            "11284\n"
          ],
          "name": "stdout"
        }
      ]
    },
    {
      "cell_type": "markdown",
      "metadata": {
        "id": "H-mF1kCz9hMs"
      },
      "source": [
        "# Resultados\n",
        "Obtivemos uma acurácia bem significativa com uma rede de 2 camadas escondidas obtendo uma taxa de acerto de aproximadamente 86,16%. Já utilizando uma rede com 3 camadas escondidas obtivemos uma taxa de acerto ligeiramente melhor de aproximadamente 86,37%. Com isso obtivemos uma bons resultados, vale salientar que pela grande quantidade de valores nulos, foi retirados várias ocorrências do dataset, o que pode provocar uma má aproximação, já que estamos utilizando datas, poderia ser feito uma analise mais minunciosa tentando interpolar esses valores faltantes, mas que ainda sim poderia causar um certo erro visto que alguns valores seguidos são vazios como os anos iniciais, o que provocaria também uma certa má interpolação."
      ]
    }
  ]
}